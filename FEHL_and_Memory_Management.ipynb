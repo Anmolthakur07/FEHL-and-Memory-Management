{
  "nbformat": 4,
  "nbformat_minor": 0,
  "metadata": {
    "colab": {
      "provenance": []
    },
    "kernelspec": {
      "name": "python3",
      "display_name": "Python 3"
    },
    "language_info": {
      "name": "python"
    }
  },
  "cells": [
    {
      "cell_type": "markdown",
      "source": [
        "# Files, exceptional handling, logging and memory management.\n",
        "\n",
        "1. What is the difference between interpreted and compiled languages?\n",
        " - The main difference between interpreted and compiled languages lies in how they execute code.\n",
        " - Compiled Languages:\n",
        "    - Process: Code is translated into machine language (binary) before execution.\n",
        "    - Speed: Faster execution since it runs directly as machine code.\n",
        "    - Error Detection: Errors are found at compile time.\n",
        "    - Examples: C, C++, Rust, Go.\n",
        " - Interpreted Languages:\n",
        "    - Process: Code is executed line-by-line at runtime by an interpreter.\n",
        "    - Speed: Slower than compiled languages since translation happens during execution.\n",
        "    - Error Detection: Errors appear during runtime.\n",
        "    - Examples: Python, JavaScript, Ruby, PHP.\n",
        " - Hybrid Approach (Both Interpreted & Compiled)\n",
        "    - Java: Compiles to bytecode (intermediate code), which is then interpreted by the JVM.\n",
        "    - Python: Often compiled to bytecode (.pyc) and then interpreted.\n",
        "2. What is exception handling in Python?\n",
        " - Exception handling in Python is a way to manage errors that occur during program execution, preventing crashes and allowing graceful recovery.\n",
        "3. What is the purpose of the finally block in exception handling?\n",
        " - The finally block in Python is used to define code that will always execute, regardless of whether an exception occurs or not. It ensures that important cleanup actions (like closing files, releasing resources, or disconnecting from a database) are performed.\n",
        "4. What is logging in Python?\n",
        " - Logging in Python is a way to track events that happen while a program runs. It helps with debugging, monitoring, and troubleshooting by recording messages about the program’s execution.\n",
        "5. What is the significance of the __del__ method in Python?\n",
        " - The __del__ method (also called the destructor) is a special method in Python that is called when an object is about to be destroyed. It is mainly used for cleanup operations like closing files, releasing memory, or disconnecting from databases.\n",
        "6. What is the difference between import and from ... import in Python?\n",
        " - In Python, both import and from ... import are used to bring modules or specific parts of modules into your code, but they differ in how they do this and what they bring into the namespace.\n",
        "    -  import Statement:\n",
        "    - Syntax: import module_name\n",
        "    - Usage: This imports the entire module into your current namespace.\n",
        "    - Access: To access functions, classes, or variables from the module, you need to use the module name as a prefix.\n",
        "    - from ... import Statement:\n",
        "    - Syntax: from module_name import name1, name2, ...\n",
        "    - Usage: This imports specific functions, classes, or variables from a module directly into your current namespace.\n",
        "    - Access: You can use the imported names directly without the module prefix.\n",
        "7. How can you handle multiple exceptions in Python?\n",
        " - In Python, you can handle multiple exceptions using a single try block followed by multiple except blocks. This allows you to catch and handle different types of exceptions separately.\n",
        "8. What is the purpose of the with statement when handling files in Python?\n",
        " - The with statement in Python is used for handling files efficiently and safely. Its main purpose is to ensure that resources, such as file handles, are properly managed, avoiding potential issues like memory leaks or unclosed files.\n",
        "9. What is the difference between multithreading and multiprocessing?\n",
        " - Both multithreading and multiprocessing allow parallel execution, but they differ in how they utilize system resources and handle concurrency.\n",
        "\n",
        " - 1. Multithreading:\n",
        "    - Running multiple threads (lightweight processes) within the same process\n",
        "    - Used For: I/O-bound tasks (e.g., file operations, network requests, database queries)\n",
        " - How It Works:\n",
        "    - Threads share the same memory space.\n",
        "    - Python's Global Interpreter Lock (GIL) allows only one thread to execute Python bytecode at a time.\n",
        "    - This limits true parallel execution for CPU-bound tasks but works well for I/O-bound tasks.\n",
        " - 2. Multiprocessing\n",
        "    - Running multiple processes, each with its own Python interpreter and memory space.\n",
        "    - Used For: CPU-bound tasks (e.g., data processing, complex calculations).\n",
        "    - How It Works:\n",
        "    - Each process runs independently and does not share memory.\n",
        "    - The GIL is bypassed, allowing true parallel execution across multiple CPU cores.\n",
        "10. What are the advantages of using logging in a program?\n",
        " - Advantages of Using Logging in a Program:\n",
        "Logging is essential for tracking application behavior, debugging, and maintaining software. Here are the key benefits of using logging in a program:\n",
        " - 1. Helps in Debugging & Troubleshooting:\n",
        " - 2. Provides Different Logging Levels:\n",
        " - 3. Allows Log Persistence:\n",
        " - 4. Supports Log Rotation & Management:\n",
        " - 5. Thread & Multiprocess Safety:\n",
        " - 6. Configurable & Extensible:\n",
        " - 7. Helps with Application Monitoring & Security:\n",
        "11. What is memory management in Python?\n",
        " - Memory management in Python refers to the process of allocating, using, and freeing memory efficiently during program execution. Python handles memory management automatically using a combination of reference counting, garbage collection, and memory pools.\n",
        "\n",
        "12. What are the basic steps involved in exception handling in Python?\n",
        "  - Basic Steps in Exception Handling in Python:\n",
        "  Exception handling in Python is done using the try-except block to catch and manage errors during program execution, preventing crashes.\n",
        "     - 1. Try Block (try):\n",
        "     - 2. Catch the Exception (except):\n",
        "     - 3. Execute Alternative Code (else):\n",
        "     - 4. Cleanup (finally):\n",
        "     - 5. Raising Exceptions (raise):\n",
        "13. Why is memory management important in Python?\n",
        "  - Memory management in Python is crucial for ensuring efficient resource utilization, preventing memory leaks, and improving program performance. Since Python automatically manages memory, understanding its importance helps developers write optimized and scalable applications.\n",
        "\n",
        "14. What is the role of try and except in exception handling?\n",
        " - Role of try and except in Exception Handling in Python:\n",
        "Exception handling in Python is done using the try and except blocks. These help in managing runtime errors and preventing program crashes.\n",
        "    - 1. try Block: Detects Errors:\n",
        "    - 2. except Block: Handles Errors:\n",
        "    - 3. Handling Any Exception (except Exception as e):\n",
        "    - 4. Using else with try-except:\n",
        "    - 5. Using finally for Cleanup:\n",
        "15. How does Python's garbage collection system work?\n",
        " - Python's garbage collection (GC) system automatically manages memory by removing unused objects, preventing memory leaks, and optimizing performance. It primarily works through reference counting and cyclic garbage collection.\n",
        "     - 1. Reference Counting:\n",
        "     - 2. Garbage Collection for Cyclic References:\n",
        "     - 3. Generational Garbage Collection:\n",
        "     - 4. Manually Controlling Garbage Collection:\n",
        "16. What is the purpose of the else block in exception handling?\n",
        " - The else block in exception handling is used to execute code only if no exception occurs in the try block. This helps separate error-handling logic from the main logic of the program.\n",
        "17. What are the common logging levels in Python?\n",
        " - Python’s logging module provides different levels of logging to categorize messages based on severity. These levels help developers debug, monitor, and troubleshoot applications efficiently.\n",
        "18. What is the difference between os.fork() and multiprocessing in Python?\n",
        " - Both os.fork() and the multiprocessing module are used to create new processes in Python, but they work differently and are suited for different use cases.\n",
        " - 1. os.fork():\n",
        "     - os.fork() is a low-level system call available only on Unix/Linux (not on Windows).\n",
        "     - It creates a child process by duplicating the parent process.\n",
        "     - The child process has a separate memory space but starts execution from the same point as the parent.\n",
        " - 2. multiprocessing Module:\n",
        "     - multiprocessing is a higher-level module that works on both Windows and Unix.\n",
        "     - It creates separate processes and allows easy communication between them.\n",
        "     - Each process has its own memory space (no shared memory by default).\n",
        "19. What is the importance of closing a file in Python?\n",
        "  - When working with files in Python, it's crucial to close them properly after use. Failing to do so can lead to resource leaks, data corruption, or unexpected behavior.\n",
        "  - Why Should You Close a File?\n",
        "      - 1. Releases System Resources:\n",
        "      - 2. Prevents Data Loss & Corruption:\n",
        "      - 3. Avoids Hitting the File Limit:\n",
        "20. What is the difference between file.read() and file.readline() in Python?\n",
        " - When reading files in Python, file.read() and file.readline() are used to retrieve data, but they behave differently.\n",
        "     - 1. file.read() – Reads the Entire File or a Given Number of Characters:\n",
        "     - 2. file.readline() – Reads One Line at a Time:\n",
        "21. What is the logging module in Python used for?\n",
        " - The logging module in Python is used for tracking events, debugging, and monitoring applications by recording messages at different severity levels. It helps developers understand what’s happening in a program, especially when debugging or troubleshooting errors.\n",
        "\n",
        "22. What is the os module in Python used for in file handling?\n",
        " - The os module in Python provides functions to interact with the operating system, including file and directory handling. It allows you to create, delete, move, rename, check, and manipulate files and directories.\n",
        "23. What are the challenges associated with memory management in Python?\n",
        " - Python has automatic memory management, but it comes with some challenges that can impact performance and resource utilization.\n",
        "     - 1. Garbage Collection Overhead:\n",
        "     - 2. Memory Leaks:\n",
        "     - 3. High Memory Usage Due to Dynamic Typing:\n",
        "     - 4. Fragmentation of Memory:\n",
        "     - 5. Lack of Explicit Memory Control:\n",
        "     - 6. Objects Persist Longer Than Needed (Reference Counting Issues):\n",
        "24. How do you raise an exception manually in Python?     \n",
        " - In Python, you can manually raise an exception using the raise keyword. This is useful when you want to enforce constraints, handle unexpected conditions, or trigger errors intentionally.\n",
        "25. Why is it important to use multithreading in certain applications?\n",
        " -  Multithreading allows a program to execute multiple tasks concurrently, improving performance and responsiveness in certain applications. It is particularly useful for I/O-bound tasks but has limitations for CPU-bound tasks due to Python’s Global Interpreter Lock (GIL)\n",
        "     - 1. Improves Responsiveness (GUI & Web Apps):\n",
        "     - 2. Speeds Up I/O-Bound Operations:\n",
        "     - 3. Parallel Task Execution (Efficient Resource Use):\n",
        "     - 4. Allows Background Tasks Without Blocking Main Execution:\n",
        "     - 5. Optimizes Performance in Real-time Applications:\n",
        "         \n",
        "    \n",
        "\n",
        "    \n",
        "\n",
        "\n",
        "\n",
        "      "
      ],
      "metadata": {
        "id": "jm3T2emIHu6b"
      }
    },
    {
      "cell_type": "markdown",
      "source": [
        "# Practical Questions.\n"
      ],
      "metadata": {
        "id": "jGspgZR5bQ4_"
      }
    },
    {
      "cell_type": "code",
      "execution_count": 5,
      "metadata": {
        "id": "MCvshjToHReO"
      },
      "outputs": [],
      "source": [
        "1. #How can you open a file for writing in Python and write a string to it?\n",
        "file = open(\"example.txt\", \"w\")\n",
        "file.write(\"Hello, World!\")\n",
        "file.close()"
      ]
    },
    {
      "cell_type": "code",
      "source": [
        "2. #Write a Python program to read the contents of a file and print each line.\n",
        "with open(\"example.txt\", \"r\") as file:\n",
        "    for line in file:\n",
        "        print(line.strip())\n"
      ],
      "metadata": {
        "colab": {
          "base_uri": "https://localhost:8080/"
        },
        "id": "2hXzPVr6crPN",
        "outputId": "750a1313-eb8c-4063-c090-bb8cf02410e1"
      },
      "execution_count": 8,
      "outputs": [
        {
          "output_type": "stream",
          "name": "stdout",
          "text": [
            "Hello, World!\n"
          ]
        }
      ]
    },
    {
      "cell_type": "code",
      "source": [
        "3. #How would you handle a case where the file doesn't exist while trying to open it for reading\n",
        "try:\n",
        "    with open(\"missing_file.txt\", \"r\") as file:\n",
        "        content = file.read()\n",
        "        print(content)\n",
        "except FileNotFoundError:\n",
        "    print(\"Error: The file does not exist. Please check the file name or path.\")\n"
      ],
      "metadata": {
        "colab": {
          "base_uri": "https://localhost:8080/"
        },
        "id": "VP81_6Zicgma",
        "outputId": "3f93d49f-249b-462d-eca9-11af479ee905"
      },
      "execution_count": 9,
      "outputs": [
        {
          "output_type": "stream",
          "name": "stdout",
          "text": [
            "Error: The file does not exist. Please check the file name or path.\n"
          ]
        }
      ]
    },
    {
      "cell_type": "code",
      "source": [
        "4. #Write a Python script that reads from one file and writes its content to another file.\n",
        "with open(\"/content/example.txt\", \"r\") as source_file:\n",
        "    content = source_file.read()  # Read entire content\n",
        "\n",
        "with open(\"destination.txt\", \"w\") as destination_file:\n",
        "    destination_file.write(content)  # Write entire content at once\n",
        "\n",
        "print(\"File copied successfully!\")\n"
      ],
      "metadata": {
        "colab": {
          "base_uri": "https://localhost:8080/"
        },
        "id": "_H8o01Utds2Z",
        "outputId": "b67281ba-2512-4782-a8ab-5839b1c69561"
      },
      "execution_count": 12,
      "outputs": [
        {
          "output_type": "stream",
          "name": "stdout",
          "text": [
            "File copied successfully!\n"
          ]
        }
      ]
    },
    {
      "cell_type": "code",
      "source": [
        "5.# How would you catch and handle division by zero error in Python?\n",
        "def safe_divide(a, b):\n",
        "    try:\n",
        "        return a / b\n",
        "    except ZeroDivisionError:\n",
        "        return \"Infinity (division by zero is not possible)\"\n",
        "\n",
        "print(safe_divide(10, 2))  # Output: 5.0\n",
        "print(safe_divide(10, 0))  # Output: Infinity (division by zero is not possible)\n"
      ],
      "metadata": {
        "colab": {
          "base_uri": "https://localhost:8080/"
        },
        "id": "dGJJi36meJZM",
        "outputId": "14b897dd-2bca-4bc9-a1c9-4500d754b9e3"
      },
      "execution_count": 13,
      "outputs": [
        {
          "output_type": "stream",
          "name": "stdout",
          "text": [
            "5.0\n",
            "Infinity (division by zero is not possible)\n"
          ]
        }
      ]
    },
    {
      "cell_type": "code",
      "source": [
        "6.# Write a Python program that logs an error message to a log file when a division by zero exception occurs\n",
        "import logging\n",
        "\n",
        "# Configure logging to write to a file\n",
        "logging.basicConfig(filename=\"error.log\", level=logging.ERROR,\n",
        "                    format=\"%(asctime)s - %(levelname)s - %(message)s\")\n",
        "\n",
        "def safe_divide(a, b):\n",
        "    try:\n",
        "        return a / b\n",
        "    except ZeroDivisionError:\n",
        "        logging.error(\"Attempted to divide by zero\")  # Log the error\n",
        "        return \"Error: Cannot divide by zero\"\n",
        "\n",
        "# Test cases\n",
        "print(safe_divide(10, 2))\n",
        "print(safe_divide(10, 0))\n"
      ],
      "metadata": {
        "colab": {
          "base_uri": "https://localhost:8080/"
        },
        "id": "v4eukAyfesRZ",
        "outputId": "96668ad4-999f-488e-ad18-d66c1a16089d"
      },
      "execution_count": 14,
      "outputs": [
        {
          "output_type": "stream",
          "name": "stderr",
          "text": [
            "ERROR:root:Attempted to divide by zero\n"
          ]
        },
        {
          "output_type": "stream",
          "name": "stdout",
          "text": [
            "5.0\n",
            "Error: Cannot divide by zero\n"
          ]
        }
      ]
    },
    {
      "cell_type": "code",
      "source": [
        "7. # How do you log information at different levels (INFO, ERROR, WARNING) in Python using the logging module?\n",
        "import logging\n",
        "\n",
        "# Configure logging: Write logs to a file & set format\n",
        "logging.basicConfig(filename=\"app.log\", level=logging.DEBUG,\n",
        "                    format=\"%(asctime)s - %(levelname)s - %(message)s\")\n",
        "\n",
        "# Log messages at different levels\n",
        "logging.debug(\"This is a debug message.\")\n",
        "logging.info(\"This is an info message.\")\n",
        "logging.warning(\"This is a warning message.\")\n",
        "logging.error(\"This is an error message.\")\n",
        "logging.critical(\"This is a critical message.\")\n",
        "\n",
        "print(\"Logs have been written to app.log\")\n"
      ],
      "metadata": {
        "colab": {
          "base_uri": "https://localhost:8080/"
        },
        "id": "Vgfm82uMfBID",
        "outputId": "dbe6004d-5009-4ba9-d1b5-922b5fd19233"
      },
      "execution_count": 15,
      "outputs": [
        {
          "output_type": "stream",
          "name": "stderr",
          "text": [
            "WARNING:root:This is a warning message.\n",
            "ERROR:root:This is an error message.\n",
            "CRITICAL:root:This is a critical message.\n"
          ]
        },
        {
          "output_type": "stream",
          "name": "stdout",
          "text": [
            "Logs have been written to app.log\n"
          ]
        }
      ]
    },
    {
      "cell_type": "code",
      "source": [
        "8.#Write a program to handle a file opening error using exception handling\n",
        "try:\n",
        "    with open(\"nonexistent_file.txt\", \"r\") as file:\n",
        "        content = file.read()\n",
        "except FileNotFoundError:\n",
        "    print(\"Error: The file does not exist.\")\n"
      ],
      "metadata": {
        "colab": {
          "base_uri": "https://localhost:8080/"
        },
        "id": "wl1VJy4LfQro",
        "outputId": "9fbe5b25-d4ae-4ae3-f034-49a9ae14c8dd"
      },
      "execution_count": 16,
      "outputs": [
        {
          "output_type": "stream",
          "name": "stdout",
          "text": [
            "Error: The file does not exist.\n"
          ]
        }
      ]
    },
    {
      "cell_type": "code",
      "source": [
        "9. # How can you read a file line by line and store its content in a list in Python\n",
        "with open(\"example.txt\", \"r\") as file:\n",
        "    lines = file.readlines()\n",
        "\n",
        "for line in lines:\n",
        "    print(line.strip())"
      ],
      "metadata": {
        "colab": {
          "base_uri": "https://localhost:8080/"
        },
        "id": "m_ceFdKOfl5s",
        "outputId": "63781ac4-69a4-472c-b86c-1525d1a8bf92"
      },
      "execution_count": 17,
      "outputs": [
        {
          "output_type": "stream",
          "name": "stdout",
          "text": [
            "Hello, World!\n"
          ]
        }
      ]
    },
    {
      "cell_type": "code",
      "source": [
        "10. #How can you append data to an existing file in Python\n",
        "with open(\"example.txt\", \"a\") as file:\n",
        "    file.write(\"\\nAppending some more content.\")"
      ],
      "metadata": {
        "id": "hfo4eQo0fumd"
      },
      "execution_count": 19,
      "outputs": []
    },
    {
      "cell_type": "code",
      "source": [
        "11.  #Write a Python program that uses a try-except block to handle an error when attempting to access a\n",
        "#dictionary key that doesn't exist\n",
        "# Sample dictionary\n",
        "person = {\"name\": \"Alice\", \"age\": 25}\n",
        "\n",
        "try:\n",
        "    print(person[\"city\"])  # This key doesn't exist\n",
        "except KeyError:\n",
        "    print(\"Error: The key 'city' does not exist in the dictionary.\")\n",
        "\n"
      ],
      "metadata": {
        "colab": {
          "base_uri": "https://localhost:8080/"
        },
        "id": "JgcrkKj8f3-t",
        "outputId": "bf31fd4a-9f1d-4420-be85-71dd0e854d5d"
      },
      "execution_count": 20,
      "outputs": [
        {
          "output_type": "stream",
          "name": "stdout",
          "text": [
            "Error: The key 'city' does not exist in the dictionary.\n"
          ]
        }
      ]
    },
    {
      "cell_type": "code",
      "source": [
        "12. #Write a program that demonstrates using multiple except blocks to handle different types of exceptions.\n",
        "def exception_demo():\n",
        "    try:\n",
        "        num1 = int(input(\"Enter a number: \"))\n",
        "        num2 = int(input(\"Enter another number: \"))\n",
        "        my_list = [1, 2, 3]\n",
        "        print(my_list[5])\n",
        "    except ValueError:\n",
        "        print(\"Error: Invalid input! Please enter an integer.\")\n",
        "    except ZeroDivisionError:\n",
        "        print(\"Error: Cannot divide by zero!\")\n",
        "    except IndexError:\n",
        "        print(\"Error: List index out of range!\")\n",
        "    except Exception as e:\n",
        "        print(f\"An unexpected error occurred: {e}\")\n",
        "    else:\n",
        "        print(f\"Result: {result}\")\n",
        "    finally:\n",
        "        print(\"Execution completed.\")\n",
        "exception_demo()\n"
      ],
      "metadata": {
        "colab": {
          "base_uri": "https://localhost:8080/"
        },
        "id": "BmziE8y1gJKZ",
        "outputId": "73f48302-0453-4b82-be9e-cd46b1acea9d"
      },
      "execution_count": 23,
      "outputs": [
        {
          "output_type": "stream",
          "name": "stdout",
          "text": [
            "Enter a number: 1\n",
            "Enter another number: 2\n",
            "Error: List index out of range!\n",
            "Execution completed.\n"
          ]
        }
      ]
    },
    {
      "cell_type": "code",
      "source": [
        "13. #How would you check if a file exists before attempting to read it in Python\n",
        "from pathlib import Path\n",
        "\n",
        "file_path = Path(\"example.txt\")\n",
        "\n",
        "if file_path.exists():  # Check if file exists\n",
        "    with file_path.open(\"r\") as file:\n",
        "        content = file.read()\n",
        "        print(content)\n",
        "else:\n",
        "    print(\"Error: File does not exist!\")\n"
      ],
      "metadata": {
        "colab": {
          "base_uri": "https://localhost:8080/"
        },
        "id": "8Fr8TrLLgyCU",
        "outputId": "9bb1f305-517b-43c6-b41a-aeefc0b3f920"
      },
      "execution_count": 24,
      "outputs": [
        {
          "output_type": "stream",
          "name": "stdout",
          "text": [
            "Hello, World!\n",
            "Appending some more content.\n",
            "Appending some more content.\n"
          ]
        }
      ]
    },
    {
      "cell_type": "code",
      "source": [
        "14. #Write a program that uses the logging module to log both informational and error messages\n",
        "import logging\n",
        "\n",
        "# Configure logging\n",
        "logging.basicConfig(filename=\"app.log\", level=logging.DEBUG,\n",
        "                    format=\"%(asctime)s - %(levelname)s - %(message)s\")\n",
        "\n",
        "def divide_numbers(a, b):\n",
        "    \"\"\"Function to divide two numbers with logging.\"\"\"\n",
        "    logging.info(f\"Attempting to divide {a} by {b}\")  # Log an info message\n",
        "    try:\n",
        "        result = a / b\n",
        "    except ZeroDivisionError:\n",
        "        logging.error(\"Error: Division by zero attempted!\")  # Log an error message\n",
        "        return \"Error: Cannot divide by zero\"\n",
        "    else:\n",
        "        logging.info(f\"Division successful: {a} / {b} = {result}\")  # Log success\n",
        "        return result\n",
        "    finally:\n",
        "        logging.info(\"Function execution completed.\")\n",
        "print(divide_numbers(10, 2))\n",
        "print(divide_numbers(10, 0))\n",
        "\n",
        "print(\"Logs have been written to app.log\")\n"
      ],
      "metadata": {
        "colab": {
          "base_uri": "https://localhost:8080/"
        },
        "id": "0kBnUeU5hByl",
        "outputId": "cfe5838f-130f-4d37-8cc3-29b6ee552be6"
      },
      "execution_count": 25,
      "outputs": [
        {
          "output_type": "stream",
          "name": "stderr",
          "text": [
            "ERROR:root:Error: Division by zero attempted!\n"
          ]
        },
        {
          "output_type": "stream",
          "name": "stdout",
          "text": [
            "5.0\n",
            "Error: Cannot divide by zero\n",
            "Logs have been written to app.log\n"
          ]
        }
      ]
    },
    {
      "cell_type": "code",
      "source": [
        "15.# Write a Python program that prints the content of a file and handles the case when the file is empty.\n",
        "import os\n",
        "\n",
        "def read_file(file_path):\n",
        "    \"\"\"Reads and prints the content of a file, handling empty files and missing files.\"\"\"\n",
        "    if not os.path.exists(file_path):\n",
        "        print(\"Error: File does not exist!\")\n",
        "        return\n",
        "\n",
        "    with open(file_path, \"r\") as file:\n",
        "        content = file.read()\n",
        "\n",
        "        if not content:\n",
        "            print(\"The file is empty.\")\n",
        "        else:\n",
        "            print(\"File Content:\\n\")\n",
        "            print(content)\n",
        "file_path = \"example.txt\"\n",
        "read_file(file_path)\n"
      ],
      "metadata": {
        "colab": {
          "base_uri": "https://localhost:8080/"
        },
        "id": "1Co1ZB2uhUWn",
        "outputId": "773eb895-d9b3-4512-ee04-85f2e47b52fa"
      },
      "execution_count": 26,
      "outputs": [
        {
          "output_type": "stream",
          "name": "stdout",
          "text": [
            "File Content:\n",
            "\n",
            "Hello, World!\n",
            "Appending some more content.\n",
            "Appending some more content.\n"
          ]
        }
      ]
    },
    {
      "cell_type": "code",
      "source": [
        "16. # Demonstrate how to use memory profiling to check the memory usage of a small program.\n",
        "def memory_test():\n",
        "    numbers = [i for i in range(100000)]\n",
        "    squared_numbers = [x**2 for x in numbers]\n",
        "    del numbers\n",
        "    return sum(squared_numbers)\n",
        "\n",
        "if __name__ == \"__main__\":\n",
        "    result = memory_test()\n",
        "    print(f\"Sum of squares: {result}\")\n"
      ],
      "metadata": {
        "colab": {
          "base_uri": "https://localhost:8080/"
        },
        "id": "9dDzR0uBhojB",
        "outputId": "aed339d2-5398-4a55-e39f-43330dd70ec5"
      },
      "execution_count": 3,
      "outputs": [
        {
          "output_type": "stream",
          "name": "stdout",
          "text": [
            "Sum of squares: 333328333350000\n"
          ]
        }
      ]
    },
    {
      "cell_type": "code",
      "source": [
        "17. # Write a Python program to create and write a list of numbers to a file, one number per line.\n",
        "def write_numbers_to_file(file_path, numbers):\n",
        "    \"\"\"Writes a list of numbers to a file, one per line.\"\"\"\n",
        "    with open(file_path, \"w\") as file:\n",
        "        for number in numbers:\n",
        "            file.write(f\"{number}\\n\")\n",
        "    print(f\"Numbers have been written to {file_path}\")\n",
        "numbers_list = list(range(1, 11))\n",
        "file_name = \"numbers.txt\"\n",
        "write_numbers_to_file(file_name, numbers_list)\n",
        "\n"
      ],
      "metadata": {
        "colab": {
          "base_uri": "https://localhost:8080/"
        },
        "id": "rXhl7e_22143",
        "outputId": "7f4d9835-5e4c-4af2-89a9-9aa7281e6d18"
      },
      "execution_count": 12,
      "outputs": [
        {
          "output_type": "stream",
          "name": "stdout",
          "text": [
            "Numbers have been written to numbers.txt\n"
          ]
        }
      ]
    },
    {
      "cell_type": "code",
      "source": [
        "18.#How would you implement a basic logging setup that logs to a file with rotation after 1MB\n",
        "import logging\n",
        "from logging.handlers import RotatingFileHandler\n",
        "\n",
        "\n",
        "log_file = \"app.log\"\n",
        "logging.basicConfig(\n",
        "    level=logging.DEBUG,\n",
        "    format=\"%(asctime)s - %(levelname)s - %(message)s\",\n",
        "    handlers=[\n",
        "        RotatingFileHandler(log_file, maxBytes=1_000_000, backupCount=3)\n",
        "    ]\n",
        ")\n",
        "logger = logging.getLogger()\n",
        "logger.info(\"This is an INFO message.\")\n",
        "logger.warning(\"This is a WARNING message.\")\n",
        "logger.error(\"This is an ERROR message.\")\n"
      ],
      "metadata": {
        "colab": {
          "base_uri": "https://localhost:8080/"
        },
        "id": "Z0MvMPV56DlC",
        "outputId": "d028d1a3-6d6b-4459-93cf-77945fc6dff1"
      },
      "execution_count": 13,
      "outputs": [
        {
          "output_type": "stream",
          "name": "stderr",
          "text": [
            "WARNING:root:This is a WARNING message.\n",
            "ERROR:root:This is an ERROR message.\n"
          ]
        }
      ]
    },
    {
      "cell_type": "code",
      "source": [
        "19. # Write a program that handles both IndexError and KeyError using a try-except block.\n",
        "def handle_exceptions():\n",
        "    my_list = [1, 2, 3]\n",
        "    my_dict = {\"a\": 10, \"b\": 20}\n",
        "\n",
        "    try:\n",
        "        print(\"List value:\", my_list[5])\n",
        "        print(\"Dictionary value:\", my_dict[\"c\"])\n",
        "\n",
        "    except IndexError:\n",
        "        print(\"Error: List index out of range!\")\n",
        "\n",
        "    except KeyError:\n",
        "        print(\"Error: Dictionary key not found!\")\n",
        "\n",
        "    finally:\n",
        "        print(\"Execution completed.\")\n",
        "handle_exceptions()\n"
      ],
      "metadata": {
        "colab": {
          "base_uri": "https://localhost:8080/"
        },
        "id": "SWi_7GZt6pip",
        "outputId": "47fcab72-042e-487c-90f3-53aeda887744"
      },
      "execution_count": 14,
      "outputs": [
        {
          "output_type": "stream",
          "name": "stdout",
          "text": [
            "Error: List index out of range!\n",
            "Execution completed.\n"
          ]
        }
      ]
    },
    {
      "cell_type": "code",
      "source": [
        "20. #How would you open a file and read its contents using a context manager in Python\n",
        "def read_file(file_path):\n",
        "    \"\"\"Reads and prints the contents of a file using a context manager.\"\"\"\n",
        "    try:\n",
        "        with open(file_path, \"r\") as file:\n",
        "            content = file.read()\n",
        "            print(\"File Contents:\\n\")\n",
        "            print(content)\n",
        "    except FileNotFoundError:\n",
        "        print(\"Error: File not found!\")\n",
        "    except IOError:\n",
        "        print(\"Error: Issue reading the file!\")\n",
        "file_name = \"example.txt\"\n",
        "read_file(file_name)\n"
      ],
      "metadata": {
        "colab": {
          "base_uri": "https://localhost:8080/"
        },
        "id": "eTQQIAtv698W",
        "outputId": "80b53bd8-ffd4-4225-df76-c674c413513e"
      },
      "execution_count": 15,
      "outputs": [
        {
          "output_type": "stream",
          "name": "stdout",
          "text": [
            "Error: File not found!\n"
          ]
        }
      ]
    },
    {
      "cell_type": "code",
      "source": [
        "21. # Write a Python program that reads a file and prints the number of occurrences of a specific word.\n",
        "def count_word_occurrences(file_path, word):\n",
        "    \"\"\"Counts the occurrences of a specific word in a file.\"\"\"\n",
        "    try:\n",
        "        with open(file_path, \"r\") as file:\n",
        "            content = file.read().lower()\n",
        "            word_count = content.split().count(word.lower())\n",
        "            print(f\"The word '{word}' appears {word_count} times in '{file_path}'.\")\n",
        "    except FileNotFoundError:\n",
        "        print(\"Error: File not found!\")\n",
        "    except IOError:\n",
        "        print(\"Error: Issue reading the file!\")\n",
        "file_name = \"example.txt\"\n",
        "search_word = \"python\"\n",
        "count_word_occurrences(file_name, search_word)\n"
      ],
      "metadata": {
        "colab": {
          "base_uri": "https://localhost:8080/"
        },
        "id": "Y9-xMUgT7T3I",
        "outputId": "a257f629-c808-4aff-9d09-36d2e67d1e30"
      },
      "execution_count": 16,
      "outputs": [
        {
          "output_type": "stream",
          "name": "stdout",
          "text": [
            "Error: File not found!\n"
          ]
        }
      ]
    },
    {
      "cell_type": "code",
      "source": [
        "22. #How can you check if a file is empty before attempting to read its contents\n",
        "import os\n",
        "\n",
        "def is_file_empty(file_path):\n",
        "    \"\"\"Checks if a file is empty by checking its size.\"\"\"\n",
        "    return os.path.getsize(file_path) == 0\n",
        "\n",
        "\n",
        "file_name = \"example.txt\"\n",
        "\n",
        "if os.path.exists(file_name):\n",
        "    if is_file_empty(file_name):\n",
        "        print(\"The file is empty.\")\n",
        "    else:\n",
        "        with open(file_name, \"r\") as file:\n",
        "            print(file.read())\n",
        "else:\n",
        "    print(\"File does not exist!\")\n"
      ],
      "metadata": {
        "colab": {
          "base_uri": "https://localhost:8080/"
        },
        "id": "XsnPATDT7nDO",
        "outputId": "1672708f-0d6f-41a6-e9ce-21890ebafa37"
      },
      "execution_count": 22,
      "outputs": [
        {
          "output_type": "stream",
          "name": "stdout",
          "text": [
            "File does not exist!\n"
          ]
        }
      ]
    },
    {
      "cell_type": "code",
      "source": [
        "23. # Write a Python program that writes to a log file when an error occurs during file handling\n",
        "import logging\n",
        "\n",
        "# Configure logging\n",
        "logging.basicConfig(\n",
        "    filename=\"file_errors.log\",  # Log file name\n",
        "    level=logging.ERROR,         # Log only errors and above\n",
        "    format=\"%(asctime)s - %(levelname)s - %(message)s\",\n",
        ")\n",
        "\n",
        "def read_file(file_path):\n",
        "    \"\"\"Attempts to read a file and logs errors if they occur.\"\"\"\n",
        "    try:\n",
        "        with open(file_path, \"r\") as file:\n",
        "            content = file.read()\n",
        "            print(\"File Contents:\\n\", content)\n",
        "    except FileNotFoundError:\n",
        "        logging.error(f\"File not found: {file_path}\")\n",
        "        print(\"Error: File not found!\")\n",
        "    except IOError:\n",
        "        logging.error(f\"Error reading file: {file_path}\")\n",
        "        print(\"Error: Issue reading the file!\")\n",
        "    except Exception as e:\n",
        "        logging.error(f\"An unexpected error occurred: {e}\")\n",
        "        print(\"An unexpected error occurred:\", e)\n",
        "file_name = \"non_existent.txt\"\n",
        "read_file(file_name)\n"
      ],
      "metadata": {
        "colab": {
          "base_uri": "https://localhost:8080/"
        },
        "id": "ckYeg5ON8QgR",
        "outputId": "eb0d453a-36ef-46d8-fea1-a4b41a598932"
      },
      "execution_count": 24,
      "outputs": [
        {
          "output_type": "stream",
          "name": "stderr",
          "text": [
            "ERROR:root:File not found: non_existent.txt\n"
          ]
        },
        {
          "output_type": "stream",
          "name": "stdout",
          "text": [
            "Error: File not found!\n"
          ]
        }
      ]
    }
  ]
}